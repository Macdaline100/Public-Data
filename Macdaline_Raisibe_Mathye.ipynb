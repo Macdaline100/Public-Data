{
  "nbformat": 4,
  "nbformat_minor": 0,
  "metadata": {
    "kernelspec": {
      "display_name": "Python 3",
      "language": "python",
      "name": "python3"
    },
    "language_info": {
      "codemirror_mode": {
        "name": "ipython",
        "version": 3
      },
      "file_extension": ".py",
      "mimetype": "text/x-python",
      "name": "python",
      "nbconvert_exporter": "python",
      "pygments_lexer": "ipython3",
      "version": "3.8.5"
    },
    "colab": {
      "name": "Macdaline Raisibe Mathye.ipynb",
      "provenance": [],
      "include_colab_link": true
    }
  },
  "cells": [
    {
      "cell_type": "markdown",
      "metadata": {
        "id": "view-in-github",
        "colab_type": "text"
      },
      "source": [
        "<a href=\"https://colab.research.google.com/github/Macdaline100/Public-Data/blob/master/Macdaline_Raisibe_Mathye.ipynb\" target=\"_parent\"><img src=\"https://colab.research.google.com/assets/colab-badge.svg\" alt=\"Open In Colab\"/></a>"
      ]
    },
    {
      "cell_type": "markdown",
      "metadata": {
        "id": "WA-PVlW9jYgj"
      },
      "source": [
        "## Data Science Academy Classification Hackathon "
      ]
    },
    {
      "cell_type": "markdown",
      "metadata": {
        "id": "OuensOBIjYgp"
      },
      "source": [
        "### Let's do some importing "
      ]
    },
    {
      "cell_type": "code",
      "metadata": {
        "id": "wGT-bRbFjYgs"
      },
      "source": [
        "#importing\n",
        "import pandas as pd\n",
        "import numpy as np\n",
        "import matplotlib.pyplot as plt\n",
        "import seaborn as sns\n",
        "%matplotlib inline\n",
        "import nltk\n",
        "import re\n",
        "import string\n",
        "from nltk.corpus import stopwords, wordnet\n",
        "from nltk.tokenize import word_tokenize, TreebankWordTokenizer\n",
        "from nltk import word_tokenize, pos_tag, pos_tag_sents\n",
        "from nltk.stem import WordNetLemmatizer\n",
        "from sklearn.model_selection import train_test_split\n",
        "from sklearn.feature_extraction.text import CountVectorizer\n",
        "from sklearn.feature_extraction.text import TfidfVectorizer\n",
        "from sklearn.feature_extraction.text import TfidfTransformer \n",
        "from sklearn.svm import LinearSVC\n",
        "from sklearn.pipeline import Pipeline\n",
        "from sklearn.naive_bayes import MultinomialNB\n",
        "from sklearn.neighbors import KNeighborsClassifier\n",
        "from sklearn.ensemble import RandomForestClassifier\n",
        "from sklearn.linear_model import LogisticRegression\n",
        "from sklearn import metrics\n",
        "from sklearn.metrics import classification_report, confusion_matrix, accuracy_score, f1_score, precision_score, recall_score\n",
        "from sklearn.utils import resample\n",
        "from sklearn.model_selection import RandomizedSearchCV, GridSearchCV\n"
      ],
      "execution_count": 1,
      "outputs": []
    },
    {
      "cell_type": "markdown",
      "metadata": {
        "id": "AskTUINPjYgy"
      },
      "source": [
        "### Let's do some data loading"
      ]
    },
    {
      "cell_type": "code",
      "metadata": {
        "id": "KKcgYKKrjYg0"
      },
      "source": [
        "train = pd.read_csv(\"train_set.csv\")\n",
        "test = pd.read_csv(\"test_set.csv\")\n"
      ],
      "execution_count": 2,
      "outputs": []
    },
    {
      "cell_type": "code",
      "metadata": {
        "id": "9OWVtxJ_J6UG"
      },
      "source": [
        "test = pd.read_csv(\"test_set.csv\")"
      ],
      "execution_count": 3,
      "outputs": []
    },
    {
      "cell_type": "markdown",
      "metadata": {
        "id": "NswbtFdIjYg2"
      },
      "source": [
        "### Exploring"
      ]
    },
    {
      "cell_type": "code",
      "metadata": {
        "colab": {
          "base_uri": "https://localhost:8080/"
        },
        "id": "CPz1jmCN1Iex",
        "outputId": "f0889152-b635-40d9-9760-0017d3b36a25"
      },
      "source": [
        "train['lang_id'].value_counts()"
      ],
      "execution_count": 4,
      "outputs": [
        {
          "output_type": "execute_result",
          "data": {
            "text/plain": [
              "xho    1550\n",
              "tso    1541\n",
              "zul    1536\n",
              "tsn    1525\n",
              "ven    1523\n",
              "afr    1499\n",
              "eng    1496\n",
              "ssw    1488\n",
              "nso    1488\n",
              "nbl    1482\n",
              "sot    1474\n",
              "Name: lang_id, dtype: int64"
            ]
          },
          "metadata": {},
          "execution_count": 4
        }
      ]
    },
    {
      "cell_type": "code",
      "metadata": {
        "colab": {
          "base_uri": "https://localhost:8080/"
        },
        "id": "KLbFxcPx1Y4a",
        "outputId": "2f081ad1-d7b1-4ffc-d26e-42a3369dad6b"
      },
      "source": [
        "train.isnull().sum()"
      ],
      "execution_count": 5,
      "outputs": [
        {
          "output_type": "execute_result",
          "data": {
            "text/plain": [
              "lang_id    0\n",
              "text       0\n",
              "dtype: int64"
            ]
          },
          "metadata": {},
          "execution_count": 5
        }
      ]
    },
    {
      "cell_type": "code",
      "metadata": {
        "colab": {
          "base_uri": "https://localhost:8080/",
          "height": 110
        },
        "id": "v2kJ9F16jYhC",
        "outputId": "83c30e28-6500-4eb7-d3d3-111a97c0d4f5"
      },
      "source": [
        "train.head(2)"
      ],
      "execution_count": 6,
      "outputs": [
        {
          "output_type": "execute_result",
          "data": {
            "text/html": [
              "<div>\n",
              "<style scoped>\n",
              "    .dataframe tbody tr th:only-of-type {\n",
              "        vertical-align: middle;\n",
              "    }\n",
              "\n",
              "    .dataframe tbody tr th {\n",
              "        vertical-align: top;\n",
              "    }\n",
              "\n",
              "    .dataframe thead th {\n",
              "        text-align: right;\n",
              "    }\n",
              "</style>\n",
              "<table border=\"1\" class=\"dataframe\">\n",
              "  <thead>\n",
              "    <tr style=\"text-align: right;\">\n",
              "      <th></th>\n",
              "      <th>lang_id</th>\n",
              "      <th>text</th>\n",
              "    </tr>\n",
              "  </thead>\n",
              "  <tbody>\n",
              "    <tr>\n",
              "      <th>0</th>\n",
              "      <td>xho</td>\n",
              "      <td>umgaqo-siseko wenza amalungiselelo kumaziko ax...</td>\n",
              "    </tr>\n",
              "    <tr>\n",
              "      <th>1</th>\n",
              "      <td>xho</td>\n",
              "      <td>i-dha iya kuba nobulumko bokubeka umsebenzi na...</td>\n",
              "    </tr>\n",
              "  </tbody>\n",
              "</table>\n",
              "</div>"
            ],
            "text/plain": [
              "  lang_id                                               text\n",
              "0     xho  umgaqo-siseko wenza amalungiselelo kumaziko ax...\n",
              "1     xho  i-dha iya kuba nobulumko bokubeka umsebenzi na..."
            ]
          },
          "metadata": {},
          "execution_count": 6
        }
      ]
    },
    {
      "cell_type": "code",
      "metadata": {
        "id": "f5Ub4t-y4OZM"
      },
      "source": [
        "%%capture\n",
        "!pip install --upgrade -q comet_ml contractions emoji unidecode langdetect"
      ],
      "execution_count": 7,
      "outputs": []
    },
    {
      "cell_type": "code",
      "metadata": {
        "colab": {
          "base_uri": "https://localhost:8080/"
        },
        "id": "eRQRu-FwBGqg",
        "outputId": "17cd999c-57b1-49de-db30-c5399b949688"
      },
      "source": [
        "!!pip install nlppreprocess\n",
        "import nltk\n",
        "nltk.download('stopwords')\n",
        "nltk.download('wordnet')\n",
        "nltk.download('stopwords')\n",
        "nltk.download('averaged_perceptron_tagger')\n",
        "import contractions"
      ],
      "execution_count": 8,
      "outputs": [
        {
          "output_type": "stream",
          "name": "stdout",
          "text": [
            "[nltk_data] Downloading package stopwords to /root/nltk_data...\n",
            "[nltk_data]   Unzipping corpora/stopwords.zip.\n",
            "[nltk_data] Downloading package wordnet to /root/nltk_data...\n",
            "[nltk_data]   Unzipping corpora/wordnet.zip.\n",
            "[nltk_data] Downloading package stopwords to /root/nltk_data...\n",
            "[nltk_data]   Package stopwords is already up-to-date!\n",
            "[nltk_data] Downloading package averaged_perceptron_tagger to\n",
            "[nltk_data]     /root/nltk_data...\n",
            "[nltk_data]   Unzipping taggers/averaged_perceptron_tagger.zip.\n"
          ]
        }
      ]
    },
    {
      "cell_type": "code",
      "metadata": {
        "id": "oyoF3pjO3wSj"
      },
      "source": [
        "\n",
        "def clean_tweets(message):\n",
        "    \"\"\"\n",
        "    Cleaning all tweets by removing contractions, url-links, punctuation, digits,\n",
        "    stopwords and Lemmatizing all the words.\n",
        "\n",
        "    Returns\n",
        "      A clean tweet as string\n",
        "    \"\"\"\n",
        "\n",
        "    # change all words into lower case\n",
        "    message = message.lower()\n",
        "\n",
        "    #removing contractions\n",
        "    message = contractions.fix(message)\n",
        "\n",
        "    # replace all url-links with url-web\n",
        "    url = r'http[s]?://(?:[A-Za-z]|[0-9]|[$-_@.&+]|[!*\\(\\),]|(?:%[0-9A-Fa-f][0-9A-Fa-f]))+'\n",
        "    web = 'url-web'\n",
        "    message = re.sub(url, web, message)\n",
        "\n",
        "    # removing all punctuation and digits\n",
        "    message = re.sub(r'[-]',' ',message)\n",
        "    message = re.sub(r'[^\\w\\s]','',message)\n",
        "    message = re.sub('[0-9]+', '', message)\n",
        "    \n",
        "    # removing stopwords\n",
        "    nltk_stopword = nltk.corpus.stopwords.words('english')\n",
        "    message = ' '.join([item for item in message.split() if item not in nltk_stopword])\n",
        "\n",
        "    # lemmatizing all words\n",
        "    message = message.lower()\n",
        "    lemmatizer = WordNetLemmatizer()\n",
        "    message = [lemmatizer.lemmatize(token) for token in message.split(\" \")]\n",
        "    message = [lemmatizer.lemmatize(token, \"v\") for token in message]\n",
        "    message = \" \".join(message)\n",
        "\n",
        "    return message\n",
        "train['text_clean']=train['text'].apply(clean_tweets)"
      ],
      "execution_count": 9,
      "outputs": []
    },
    {
      "cell_type": "code",
      "metadata": {
        "id": "9g7daiFP8pHZ"
      },
      "source": [
        "def TweetCleaner(tweet):\n",
        "    \n",
        "    \"\"\"\n",
        "    This function uses regular expressions to remove url's, mentions, hashtags, \n",
        "    punctuation, numbers and any extra white space from tweets after converting \n",
        "    everything to lowercase letters.\n",
        "\n",
        "    Input:\n",
        "    tweet: original tweet\n",
        "           datatype: 'str'\n",
        "\n",
        "    Output:\n",
        "    tweet: modified tweet\n",
        "           datatype: 'str'\n",
        "    \"\"\"\n",
        "    # Convert everything to lowercase\n",
        "    tweet = tweet.lower() \n",
        "    \n",
        "    # Remove mentions   \n",
        "    tweet = re.sub('@[\\w]*','',tweet)  \n",
        "    \n",
        "    # Remove url's\n",
        "    tweet = re.sub(r'https?:\\/\\/.*\\/\\w*', '', tweet)\n",
        "    \n",
        "    # Remove hashtags\n",
        "    tweet = re.sub(r'#\\w*', '', tweet)    \n",
        "    \n",
        "    # Remove numbers\n",
        "    tweet = re.sub(r'\\d+', '', tweet)  \n",
        "    \n",
        "    # Remove punctuation\n",
        "    tweet = re.sub(r\"[,.;':@#?!\\&/$]+\\ *\", ' ', tweet)\n",
        "    \n",
        "    # Remove that funny diamond\n",
        "    tweet = re.sub(r\"U+FFFD \", ' ', tweet)\n",
        "    \n",
        "    # Remove extra whitespace\n",
        "    tweet = re.sub(r'\\s\\s+', ' ', tweet)\n",
        "    \n",
        "    # Remove space in front of tweet\n",
        "    tweet = tweet.lstrip(' ')                        \n",
        "    \n",
        "    return tweet\n",
        "\n",
        "# Clean the tweets in the message column\n",
        "train['text_token'] = train['text'].apply(TweetCleaner)"
      ],
      "execution_count": 10,
      "outputs": []
    },
    {
      "cell_type": "code",
      "metadata": {
        "id": "BTGYzNdwjYhF"
      },
      "source": [
        "#tokenizing the tweets\n",
        ">>> from nltk.tokenize import WordPunctTokenizer\n",
        "\n",
        "tokeniser =WordPunctTokenizer() # TreebankWordTokenizer()\n",
        "\n",
        "train['tokenized'] = train['text'].apply(tokeniser.tokenize)"
      ],
      "execution_count": 11,
      "outputs": []
    },
    {
      "cell_type": "code",
      "metadata": {
        "colab": {
          "base_uri": "https://localhost:8080/",
          "height": 202
        },
        "id": "XlNzzk38jYhI",
        "outputId": "b7d3c258-2fc8-486d-88ca-a84ba24ad263"
      },
      "source": [
        "train.head()"
      ],
      "execution_count": 12,
      "outputs": [
        {
          "output_type": "execute_result",
          "data": {
            "text/html": [
              "<div>\n",
              "<style scoped>\n",
              "    .dataframe tbody tr th:only-of-type {\n",
              "        vertical-align: middle;\n",
              "    }\n",
              "\n",
              "    .dataframe tbody tr th {\n",
              "        vertical-align: top;\n",
              "    }\n",
              "\n",
              "    .dataframe thead th {\n",
              "        text-align: right;\n",
              "    }\n",
              "</style>\n",
              "<table border=\"1\" class=\"dataframe\">\n",
              "  <thead>\n",
              "    <tr style=\"text-align: right;\">\n",
              "      <th></th>\n",
              "      <th>lang_id</th>\n",
              "      <th>text</th>\n",
              "      <th>text_clean</th>\n",
              "      <th>text_token</th>\n",
              "      <th>tokenized</th>\n",
              "    </tr>\n",
              "  </thead>\n",
              "  <tbody>\n",
              "    <tr>\n",
              "      <th>0</th>\n",
              "      <td>xho</td>\n",
              "      <td>umgaqo-siseko wenza amalungiselelo kumaziko ax...</td>\n",
              "      <td>umgaqo siseko wenza amalungiselelo kumaziko ax...</td>\n",
              "      <td>umgaqo-siseko wenza amalungiselelo kumaziko ax...</td>\n",
              "      <td>[umgaqo, -, siseko, wenza, amalungiselelo, kum...</td>\n",
              "    </tr>\n",
              "    <tr>\n",
              "      <th>1</th>\n",
              "      <td>xho</td>\n",
              "      <td>i-dha iya kuba nobulumko bokubeka umsebenzi na...</td>\n",
              "      <td>dha iya kuba nobulumko bokubeka umsebenzi naph...</td>\n",
              "      <td>i-dha iya kuba nobulumko bokubeka umsebenzi na...</td>\n",
              "      <td>[i, -, dha, iya, kuba, nobulumko, bokubeka, um...</td>\n",
              "    </tr>\n",
              "    <tr>\n",
              "      <th>2</th>\n",
              "      <td>eng</td>\n",
              "      <td>the province of kwazulu-natal department of tr...</td>\n",
              "      <td>province kwazulu natal department transport in...</td>\n",
              "      <td>the province of kwazulu-natal department of tr...</td>\n",
              "      <td>[the, province, of, kwazulu, -, natal, departm...</td>\n",
              "    </tr>\n",
              "    <tr>\n",
              "      <th>3</th>\n",
              "      <td>nso</td>\n",
              "      <td>o netefatša gore o ba file dilo ka moka tše le...</td>\n",
              "      <td>netefatša gore ba file dilo ka moka tše le dum...</td>\n",
              "      <td>o netefatša gore o ba file dilo ka moka tše le...</td>\n",
              "      <td>[o, netefatša, gore, o, ba, file, dilo, ka, mo...</td>\n",
              "    </tr>\n",
              "    <tr>\n",
              "      <th>4</th>\n",
              "      <td>ven</td>\n",
              "      <td>khomishini ya ndinganyiso ya mbeu yo ewa maana...</td>\n",
              "      <td>khomishini ya ndinganyiso ya mbeu yo ewa maana...</td>\n",
              "      <td>khomishini ya ndinganyiso ya mbeu yo ewa maana...</td>\n",
              "      <td>[khomishini, ya, ndinganyiso, ya, mbeu, yo, ew...</td>\n",
              "    </tr>\n",
              "  </tbody>\n",
              "</table>\n",
              "</div>"
            ],
            "text/plain": [
              "  lang_id  ...                                          tokenized\n",
              "0     xho  ...  [umgaqo, -, siseko, wenza, amalungiselelo, kum...\n",
              "1     xho  ...  [i, -, dha, iya, kuba, nobulumko, bokubeka, um...\n",
              "2     eng  ...  [the, province, of, kwazulu, -, natal, departm...\n",
              "3     nso  ...  [o, netefatša, gore, o, ba, file, dilo, ka, mo...\n",
              "4     ven  ...  [khomishini, ya, ndinganyiso, ya, mbeu, yo, ew...\n",
              "\n",
              "[5 rows x 5 columns]"
            ]
          },
          "metadata": {},
          "execution_count": 12
        }
      ]
    },
    {
      "cell_type": "markdown",
      "metadata": {
        "id": "fX_dnMuGjYhJ"
      },
      "source": [
        "### Training"
      ]
    },
    {
      "cell_type": "code",
      "metadata": {
        "id": "55OUIABSs5nB"
      },
      "source": [
        "X = train['text']\n",
        "y = train['lang_id'] "
      ],
      "execution_count": 46,
      "outputs": []
    },
    {
      "cell_type": "code",
      "metadata": {
        "id": "8M6Ed6TRjYhL"
      },
      "source": [
        "#Splitting features and target variables\n",
        "\n",
        "X_train, X_test, y_train, y_test = train_test_split(X, y, stratify=y,test_size = 0.05, random_state = 10)"
      ],
      "execution_count": 49,
      "outputs": []
    },
    {
      "cell_type": "code",
      "metadata": {
        "id": "hidqYa43jYhM"
      },
      "source": [
        "from nltk.tokenize import word_tokenize\n",
        "from sklearn.feature_extraction.text import TfidfVectorizer\n",
        "tfidf = TfidfVectorizer( ngram_range=(1, 3), analyzer='char', max_df = 0.70, tokenizer=TreebankWordTokenizer().tokenize) #tokenizer=word_tokenize) # tokenizer=TreebankWordTokenizer().tokenize) #=WordPunctTokenizer() "
      ],
      "execution_count": 17,
      "outputs": []
    },
    {
      "cell_type": "code",
      "metadata": {
        "id": "O5MOVcJS7CWc"
      },
      "source": [
        "#X_train=TfidfVectorizer( ngram_range=(1, 3), analyzer='word', max_df = 0.70, tokenizer=WordPunctTokenizer().tokenize).fit_transform( X_train.values)\n",
        "#X_test=TfidfVectorizer(ngram_range=(1, 3), analyzer='word', max_df = 0.70, tokenizer=WordPunctTokenizer().tokenize).fit_transform( X_test.values)"
      ],
      "execution_count": 18,
      "outputs": []
    },
    {
      "cell_type": "code",
      "metadata": {
        "colab": {
          "base_uri": "https://localhost:8080/"
        },
        "id": "q71HD7Kzr24z",
        "outputId": "1077d078-0946-4ed3-f91a-74d3d5311136"
      },
      "source": [
        "paramgrid = { 'alpha': [0.01, 0.1, 0.2,0.3,1,400,0.6,60, 0.8,300,40]}\n",
        "multi = Pipeline([('tfidf', CountVectorizer(lowercase = True, ngram_range=(1, 3), analyzer='word',max_df = 0.7)),\n",
        "                 ('clf', GridSearchCV(MultinomialNB(),\n",
        "                                     param_grid=paramgrid,\n",
        "                                     cv=200,\n",
        "                                     n_jobs= -1))])\n",
        "\n",
        "multi.fit(X_train, y_train)\n",
        "y_pred = multi.predict(X_test)\n",
        "print('f1_score %s' % metrics.f1_score(y_test,y_pred,average='weighted')) \n",
        "print(classification_report(y_test, y_pred),2)\n",
        "multi_nb = classification_report(y_test, y_pred, output_dict= True)"
      ],
      "execution_count": 109,
      "outputs": [
        {
          "output_type": "stream",
          "name": "stdout",
          "text": [
            "f1_score 0.9993939384898343\n",
            "              precision    recall  f1-score   support\n",
            "\n",
            "         afr       1.00      1.00      1.00       900\n",
            "         eng       1.00      1.00      1.00       900\n",
            "         nbl       1.00      1.00      1.00       900\n",
            "         nso       1.00      1.00      1.00       900\n",
            "         sot       1.00      1.00      1.00       900\n",
            "         ssw       1.00      1.00      1.00       900\n",
            "         tsn       1.00      1.00      1.00       900\n",
            "         tso       1.00      1.00      1.00       900\n",
            "         ven       1.00      1.00      1.00       900\n",
            "         xho       1.00      1.00      1.00       900\n",
            "         zul       1.00      1.00      1.00       900\n",
            "\n",
            "    accuracy                           1.00      9900\n",
            "   macro avg       1.00      1.00      1.00      9900\n",
            "weighted avg       1.00      1.00      1.00      9900\n",
            " 2\n"
          ]
        }
      ]
    },
    {
      "cell_type": "code",
      "metadata": {
        "colab": {
          "base_uri": "https://localhost:8080/"
        },
        "id": "eZywhO-84HiS",
        "outputId": "92ab7231-fa2d-4b1e-99d1-e6eb0a782401"
      },
      "source": [
        "from sklearn.ensemble import RandomForestClassifier\n",
        "rfc  = RandomForestClassifier( )\n",
        "rfc  = Pipeline([('tfidf', tfidf), ('clf', rfc)]) \n",
        "rfc.fit(X_train, y_train) \n",
        "rfc_pred = rfc.predict(X_test)\n",
        "print(metrics.accuracy_score(y_test ,rfc_pred))\n",
        "print(f1_score(y_test, rfc_pred, average=\"weighted\"))\n",
        "print(classification_report(y_test, rfc_pred)) "
      ],
      "execution_count": 29,
      "outputs": [
        {
          "output_type": "stream",
          "name": "stdout",
          "text": [
            "0.982836495031617\n",
            "0.9829015108726087\n",
            "              precision    recall  f1-score   support\n",
            "\n",
            "         afr       1.00      1.00      1.00       300\n",
            "         eng       0.99      1.00      0.99       299\n",
            "         nbl       0.99      0.92      0.95       296\n",
            "         nso       1.00      0.99      1.00       298\n",
            "         sot       0.99      1.00      1.00       295\n",
            "         ssw       0.99      0.96      0.98       298\n",
            "         tsn       1.00      1.00      1.00       305\n",
            "         tso       1.00      1.00      1.00       308\n",
            "         ven       1.00      1.00      1.00       305\n",
            "         xho       0.95      0.97      0.96       310\n",
            "         zul       0.91      0.97      0.94       307\n",
            "\n",
            "    accuracy                           0.98      3321\n",
            "   macro avg       0.98      0.98      0.98      3321\n",
            "weighted avg       0.98      0.98      0.98      3321\n",
            "\n"
          ]
        }
      ]
    },
    {
      "cell_type": "code",
      "metadata": {
        "colab": {
          "base_uri": "https://localhost:8080/"
        },
        "id": "teJG5irTjYhO",
        "outputId": "4da175ef-2a79-48fd-b772-2c81737fc540"
      },
      "source": [
        "lr = LogisticRegression()\n",
        "clf_lr = Pipeline([('tfidf', tfidf), ('clf', lr)]) \n",
        "clf_lr.fit(X_train, y_train) \n",
        "y_pred_lr= clf_lr.predict(X_test)\n",
        "# printing accuracy and score\n",
        "print('accuracy %s' % accuracy_score(y_pred_lr, y_test)) \n",
        "print('f1_score %s' % metrics.f1_score(y_test,y_pred_lr,average='weighted')) \n",
        "print(classification_report(y_test, y_pred_lr)) "
      ],
      "execution_count": 30,
      "outputs": [
        {
          "output_type": "stream",
          "name": "stdout",
          "text": [
            "accuracy 0.992773261065944\n",
            "f1_score 0.9927694225220682\n",
            "              precision    recall  f1-score   support\n",
            "\n",
            "         afr       1.00      1.00      1.00       300\n",
            "         eng       0.99      1.00      0.99       299\n",
            "         nbl       0.99      0.97      0.98       296\n",
            "         nso       1.00      0.99      1.00       298\n",
            "         sot       1.00      1.00      1.00       295\n",
            "         ssw       1.00      0.99      0.99       298\n",
            "         tsn       0.99      1.00      1.00       305\n",
            "         tso       1.00      1.00      1.00       308\n",
            "         ven       1.00      1.00      1.00       305\n",
            "         xho       0.98      0.99      0.98       310\n",
            "         zul       0.98      0.98      0.98       307\n",
            "\n",
            "    accuracy                           0.99      3321\n",
            "   macro avg       0.99      0.99      0.99      3321\n",
            "weighted avg       0.99      0.99      0.99      3321\n",
            "\n"
          ]
        }
      ]
    },
    {
      "cell_type": "code",
      "metadata": {
        "id": "sR0ggSfYWcwX"
      },
      "source": [
        "solvers = [ 'liblinear']\n",
        "penalty = ['l2']\n",
        "c_values = [100, 0.01]\n",
        "# define grid search\n",
        "grid = dict(solver=solvers,penalty=penalty,C=c_values)\n",
        "\n",
        "\n",
        "#c = { 'alpha': [0.01, 0.1, 0.2,0.3,1,300,40]}\n",
        "lh = Pipeline([('tfidf', CountVectorizer(lowercase = True, ngram_range=(1, 3), analyzer='word', max_df = 0.7)),\n",
        "                 ('clf', GridSearchCV(LogisticRegression(),\n",
        "                                     param_grid=grid,\n",
        "                                     cv=100,\n",
        "                                     n_jobs= -1))])\n",
        "\n",
        "lh.fit(X_train, y_train)\n",
        "y_pred = multi.predict(X_test)\n",
        "print('f1_score %s' % metrics.f1_score(y_test,y_pred,average='weighted')) \n",
        "print(classification_report(y_test, y_pred),2)\n",
        "multi_nb = classification_report(y_test, y_pred, output_dict= True)"
      ],
      "execution_count": null,
      "outputs": []
    },
    {
      "cell_type": "code",
      "metadata": {
        "id": "VnyJEOooWc4A"
      },
      "source": [
        ""
      ],
      "execution_count": null,
      "outputs": []
    },
    {
      "cell_type": "code",
      "metadata": {
        "colab": {
          "base_uri": "https://localhost:8080/"
        },
        "id": "Q4qeJy-95dwI",
        "outputId": "47e14e58-2994-48a4-f522-6caf71073bc3"
      },
      "source": [
        "from sklearn.svm import SVC\n",
        "svc= SVC(kernel='rbf')#{‘linear’, ‘poly’, ‘rbf’, ‘sigmoid’, ‘precomputed’}\n",
        "clf_svc= Pipeline([('tfidf', tfidf), ('clf', svc)])\n",
        "clf_svc.fit(X_train, y_train)\n",
        "y_pred_svc = clf_svc.predict(X_test)\n",
        "#printing accuracy and score\n",
        "print('accuracy %s' % accuracy_score(y_pred_svc, y_test)) \n",
        "print('f1_score %s' % metrics.f1_score(y_test,y_pred_svc,average='weighted')) \n",
        "print(classification_report(y_test, y_pred_svc)) "
      ],
      "execution_count": 31,
      "outputs": [
        {
          "output_type": "stream",
          "name": "stdout",
          "text": [
            "accuracy 0.9939777175549533\n",
            "f1_score 0.9939769246358623\n",
            "              precision    recall  f1-score   support\n",
            "\n",
            "         afr       1.00      1.00      1.00       300\n",
            "         eng       1.00      1.00      1.00       299\n",
            "         nbl       0.99      0.97      0.98       296\n",
            "         nso       1.00      1.00      1.00       298\n",
            "         sot       1.00      1.00      1.00       295\n",
            "         ssw       1.00      0.99      0.99       298\n",
            "         tsn       1.00      1.00      1.00       305\n",
            "         tso       1.00      1.00      1.00       308\n",
            "         ven       1.00      1.00      1.00       305\n",
            "         xho       0.98      1.00      0.99       310\n",
            "         zul       0.97      0.98      0.98       307\n",
            "\n",
            "    accuracy                           0.99      3321\n",
            "   macro avg       0.99      0.99      0.99      3321\n",
            "weighted avg       0.99      0.99      0.99      3321\n",
            "\n"
          ]
        }
      ]
    },
    {
      "cell_type": "code",
      "metadata": {
        "colab": {
          "base_uri": "https://localhost:8080/"
        },
        "id": "wWtdLaAXjYhP",
        "outputId": "fd610199-0b71-4d67-a265-8d8058159cff"
      },
      "source": [
        "nb = MultinomialNB()\n",
        "clf_nb= Pipeline([('tfidf', tfidf), ('clf', nb)])\n",
        "clf_nb.fit(X_train, y_train)\n",
        "y_pred_nb = clf_nb.predict(X_test)\n",
        "#printing accuracy and score\n",
        "print('accuracy %s' % accuracy_score(y_pred_nb, y_test)) \n",
        "print('f1_score %s' % metrics.f1_score(y_test,y_pred_nb,average='weighted')) \n",
        "print(classification_report(y_test, y_pred_nb)) "
      ],
      "execution_count": 32,
      "outputs": [
        {
          "output_type": "stream",
          "name": "stdout",
          "text": [
            "accuracy 0.9978922011442337\n",
            "f1_score 0.9978921751804353\n",
            "              precision    recall  f1-score   support\n",
            "\n",
            "         afr       1.00      1.00      1.00       300\n",
            "         eng       0.99      1.00      1.00       299\n",
            "         nbl       1.00      0.99      1.00       296\n",
            "         nso       1.00      1.00      1.00       298\n",
            "         sot       0.99      1.00      1.00       295\n",
            "         ssw       1.00      0.99      1.00       298\n",
            "         tsn       1.00      1.00      1.00       305\n",
            "         tso       1.00      1.00      1.00       308\n",
            "         ven       1.00      1.00      1.00       305\n",
            "         xho       1.00      1.00      1.00       310\n",
            "         zul       1.00      1.00      1.00       307\n",
            "\n",
            "    accuracy                           1.00      3321\n",
            "   macro avg       1.00      1.00      1.00      3321\n",
            "weighted avg       1.00      1.00      1.00      3321\n",
            "\n"
          ]
        }
      ]
    },
    {
      "cell_type": "markdown",
      "metadata": {
        "id": "BU1zOfbYjYhS"
      },
      "source": [
        "### Hyperparameter Tuning"
      ]
    },
    {
      "cell_type": "code",
      "metadata": {
        "colab": {
          "base_uri": "https://localhost:8080/"
        },
        "id": "7SOvyI0CjYhT",
        "outputId": "e86d9046-5b3a-44ca-a1d7-92272ce3c8b4"
      },
      "source": [
        "paramgrid = { 'alpha': [0.01, 0.1, 0.2,0.3,1,400,0.6,0.8,300,40]}\n",
        "multi = Pipeline([('tfidf', CountVectorizer(lowercase = True, ngram_range=(1, 3), analyzer='word', stop_words = 'english',max_df = 0.7)),\n",
        "                 ('clf', GridSearchCV(MultinomialNB(),\n",
        "                                     param_grid=paramgrid,\n",
        "                                     cv=100,\n",
        "                                     n_jobs= -1))])\n",
        "\n",
        "multi.fit(X_train, y_train)\n",
        "y_pred = multi.predict(X_test)\n",
        "print('f1_score %s' % metrics.f1_score(y_test,y_pred,average='weighted')) \n",
        "print(classification_report(y_test, y_pred),2)\n",
        "multi_nb = classification_report(y_test, y_pred, output_dict= True)"
      ],
      "execution_count": 33,
      "outputs": [
        {
          "output_type": "stream",
          "name": "stdout",
          "text": [
            "f1_score 0.9987950066944952\n",
            "              precision    recall  f1-score   support\n",
            "\n",
            "         afr       1.00      1.00      1.00       300\n",
            "         eng       1.00      1.00      1.00       299\n",
            "         nbl       1.00      0.99      1.00       296\n",
            "         nso       1.00      1.00      1.00       298\n",
            "         sot       1.00      1.00      1.00       295\n",
            "         ssw       1.00      1.00      1.00       298\n",
            "         tsn       1.00      1.00      1.00       305\n",
            "         tso       1.00      1.00      1.00       308\n",
            "         ven       1.00      1.00      1.00       305\n",
            "         xho       1.00      1.00      1.00       310\n",
            "         zul       1.00      1.00      1.00       307\n",
            "\n",
            "    accuracy                           1.00      3321\n",
            "   macro avg       1.00      1.00      1.00      3321\n",
            "weighted avg       1.00      1.00      1.00      3321\n",
            " 2\n"
          ]
        }
      ]
    },
    {
      "cell_type": "code",
      "metadata": {
        "id": "UxxrqyGQIPon"
      },
      "source": [
        "test_new = cv.transform(test['text'])"
      ],
      "execution_count": 59,
      "outputs": []
    },
    {
      "cell_type": "code",
      "metadata": {
        "colab": {
          "base_uri": "https://localhost:8080/",
          "height": 234
        },
        "id": "5A8zNxm8-flt",
        "outputId": "4ad77ff9-7998-425b-e40c-4041b9408661"
      },
      "source": [
        "predictions = multi.predict(test_new)\n",
        "submission = pd.DataFrame({'index':test.index,'lang_id':predictions})\n",
        "submission = submission.set_index('index')\n",
        "submission.tail()"
      ],
      "execution_count": 72,
      "outputs": [
        {
          "output_type": "execute_result",
          "data": {
            "text/html": [
              "<div>\n",
              "<style scoped>\n",
              "    .dataframe tbody tr th:only-of-type {\n",
              "        vertical-align: middle;\n",
              "    }\n",
              "\n",
              "    .dataframe tbody tr th {\n",
              "        vertical-align: top;\n",
              "    }\n",
              "\n",
              "    .dataframe thead th {\n",
              "        text-align: right;\n",
              "    }\n",
              "</style>\n",
              "<table border=\"1\" class=\"dataframe\">\n",
              "  <thead>\n",
              "    <tr style=\"text-align: right;\">\n",
              "      <th></th>\n",
              "      <th>lang_id</th>\n",
              "    </tr>\n",
              "    <tr>\n",
              "      <th>index</th>\n",
              "      <th></th>\n",
              "    </tr>\n",
              "  </thead>\n",
              "  <tbody>\n",
              "    <tr>\n",
              "      <th>5677</th>\n",
              "      <td>eng</td>\n",
              "    </tr>\n",
              "    <tr>\n",
              "      <th>5678</th>\n",
              "      <td>nso</td>\n",
              "    </tr>\n",
              "    <tr>\n",
              "      <th>5679</th>\n",
              "      <td>sot</td>\n",
              "    </tr>\n",
              "    <tr>\n",
              "      <th>5680</th>\n",
              "      <td>sot</td>\n",
              "    </tr>\n",
              "    <tr>\n",
              "      <th>5681</th>\n",
              "      <td>nbl</td>\n",
              "    </tr>\n",
              "  </tbody>\n",
              "</table>\n",
              "</div>"
            ],
            "text/plain": [
              "      lang_id\n",
              "index        \n",
              "5677      eng\n",
              "5678      nso\n",
              "5679      sot\n",
              "5680      sot\n",
              "5681      nbl"
            ]
          },
          "metadata": {},
          "execution_count": 72
        }
      ]
    },
    {
      "cell_type": "code",
      "metadata": {
        "id": "kYRKyZqx-fst"
      },
      "source": [
        "submission.to_csv('JUL2021_Raisibe_Macdaline_Mathye.csv',index=True)\n",
        "submission"
      ],
      "execution_count": null,
      "outputs": []
    },
    {
      "cell_type": "code",
      "metadata": {
        "id": "4c453O7gjYhX"
      },
      "source": [
        "# Make Submission\n",
        "My_submission = pd.DataFrame(test['index'])\n",
        "My_submission['lang_id'] = multi.predict(test['text'])\n",
        "My_submission.to_csv('JUL2021_Raisibe_Macdaline_Mathye.csv',index=False)"
      ],
      "execution_count": 158,
      "outputs": []
    },
    {
      "cell_type": "code",
      "metadata": {
        "id": "EUK0yK7qQYMv"
      },
      "source": [
        ""
      ],
      "execution_count": null,
      "outputs": []
    }
  ]
}